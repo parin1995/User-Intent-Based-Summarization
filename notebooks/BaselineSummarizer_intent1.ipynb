{
 "cells": [
  {
   "cell_type": "markdown",
   "metadata": {},
   "source": [
    "# Baseline Vanilla Bert Based Summarizer"
   ]
  },
  {
   "cell_type": "markdown",
   "metadata": {},
   "source": [
    "https://arxiv.org/abs/1906.04165\n",
    "https://pypi.org/project/bert-extractive-summarizer/"
   ]
  },
  {
   "cell_type": "code",
   "execution_count": 88,
   "metadata": {},
   "outputs": [],
   "source": [
    "from summarizer import Summarizer\n",
    "from rouge import Rouge\n",
    "import pandas as pd\n",
    "import glob\n",
    "from rouge_score import rouge_scorer"
   ]
  },
  {
   "cell_type": "markdown",
   "metadata": {},
   "source": [
    "**Functions**"
   ]
  },
  {
   "cell_type": "code",
   "execution_count": 89,
   "metadata": {},
   "outputs": [],
   "source": [
    "def createData(pathname):\n",
    "    #print(\"pathname in funct\",pathname)\n",
    "    all_files = glob.glob(pathname + \"/*.csv\")\n",
    "    #print('all_files',all_files)\n",
    "    raw_files=[]\n",
    "    for filepath in all_files:\n",
    "        #print(\"filepth\",filepath)\n",
    "        raw_files.append(pd.read_csv(filepath))\n",
    "    return raw_files"
   ]
  },
  {
   "cell_type": "code",
   "execution_count": 90,
   "metadata": {},
   "outputs": [],
   "source": [
    "def createSummary(raw_files):\n",
    "    tst_summ_lst=[]\n",
    "    eval_summ_lst=[]\n",
    "    len_lst=[]\n",
    "    for raw_file in raw_files:\n",
    "        test_summary=\"\"\n",
    "        eval_summary=\"\"\n",
    "        test_summary=\"\".join(raw_file['sentence'])\n",
    "        raw_file_filtered= raw_file[raw_file['target']==1]\n",
    "        length=len(raw_file_filtered)\n",
    "        eval_summary=\"\".join(raw_file_filtered['sentence'])\n",
    "        len_lst.append(length)\n",
    "        tst_summ_lst.append(test_summary)\n",
    "        eval_summ_lst.append(eval_summary)\n",
    "    return tst_summ_lst,eval_summ_lst,len_lst"
   ]
  },
  {
   "cell_type": "code",
   "execution_count": 91,
   "metadata": {},
   "outputs": [],
   "source": [
    "def baselineSummarizer(file,len_lst):\n",
    "    model = Summarizer()\n",
    "    summary_lst=[]\n",
    "    k=0\n",
    "    for text in file:\n",
    "        print(len(summary_lst))\n",
    "        result = model(text,min_length=len_lst[k])\n",
    "        summary = ''.join(result)   \n",
    "        k+=1\n",
    "        summary_lst.append(summary)\n",
    "    return summary_lst"
   ]
  },
  {
   "cell_type": "code",
   "execution_count": 92,
   "metadata": {},
   "outputs": [],
   "source": [
    "def rougeEvaluation(model_output_lst, reference_lst):\n",
    "    scores={}\n",
    "    score_lst=[]\n",
    "    rouge = Rouge()\n",
    "    for i,x in enumerate(zip(model_output_lst,reference_lst)):\n",
    "        print(i)\n",
    "        model_output=model_output_lst[i]\n",
    "        reference=reference_lst[i]\n",
    "        scores=rouge.get_scores(model_output, reference)\n",
    "        score_lst.append(scores)\n",
    "    return score_lst\n",
    "    "
   ]
  },
  {
   "cell_type": "markdown",
   "metadata": {},
   "source": [
    "**Create Data**"
   ]
  },
  {
   "cell_type": "code",
   "execution_count": 93,
   "metadata": {},
   "outputs": [],
   "source": [
    "\n",
    "#intent='The_main_reasons_why_you_would_like_living_in_this_state'\n",
    "#intent='What_about_this_states_arts_and_culture_attracts_you_the_most'\n",
    "#intent='What_are_some_of_the_most_interesting_things_about_this_state'\n",
    "intent='Which_places_seem_interesting_to_you_for_visiting_in_this_state'\n",
    "#users =['userInput_49','userInput_150','userInput_268'] # intent 1\n",
    "#users =['userInput_43','userInput_146','userInput_262']\n",
    "#users =['userInput_54','userInput_154','userInput_254']\n",
    "users=['userInput_3','userInput_20','userInput_220']"
   ]
  },
  {
   "cell_type": "code",
   "execution_count": 94,
   "metadata": {},
   "outputs": [],
   "source": [
    "def summarizeIntentUser(intent,users):\n",
    "    score_final={}\n",
    "    for user in users:\n",
    "        print(\"User: \",user)\n",
    "        pathname='/Users/riyajoshi/PycharmProjects/Personalized-Document-Summarization/data/'+intent+'/'\n",
    "        pathname+=user+'/test'\n",
    "        #print(pathname)\n",
    "        raw_files=createData(pathname)\n",
    "        print(len(raw_files))\n",
    "        \n",
    "        #Data from all test files for a user\n",
    "        \n",
    "        tst_summ_lst,eval_summ_lst,len_lst=createSummary(raw_files)\n",
    "        \n",
    "        # Summary creation of each of 3 test file for every user\n",
    "        \n",
    "        summary_lst=baselineSummarizer(tst_summ_lst,len_lst)\n",
    "        \n",
    "        # Evaluating scores of each summary\n",
    "        \n",
    "        score_lst=rougeEvaluation(summary_lst, eval_summ_lst)\n",
    "        \n",
    "        score_final[user]=score_lst\n",
    "    return score_final"
   ]
  },
  {
   "cell_type": "code",
   "execution_count": 95,
   "metadata": {},
   "outputs": [
    {
     "name": "stdout",
     "output_type": "stream",
     "text": [
      "User:  userInput_3\n",
      "3\n"
     ]
    },
    {
     "name": "stderr",
     "output_type": "stream",
     "text": [
      "Some weights of the model checkpoint at bert-large-uncased were not used when initializing BertModel: ['cls.predictions.bias', 'cls.predictions.decoder.weight', 'cls.seq_relationship.weight', 'cls.predictions.transform.LayerNorm.weight', 'cls.predictions.transform.LayerNorm.bias', 'cls.predictions.transform.dense.weight', 'cls.seq_relationship.bias', 'cls.predictions.transform.dense.bias']\n",
      "- This IS expected if you are initializing BertModel from the checkpoint of a model trained on another task or with another architecture (e.g. initializing a BertForSequenceClassification model from a BertForPreTraining model).\n",
      "- This IS NOT expected if you are initializing BertModel from the checkpoint of a model that you expect to be exactly identical (initializing a BertForSequenceClassification model from a BertForSequenceClassification model).\n"
     ]
    },
    {
     "name": "stdout",
     "output_type": "stream",
     "text": [
      "0\n",
      "1\n",
      "2\n",
      "0\n",
      "1\n",
      "2\n",
      "User:  userInput_20\n",
      "3\n"
     ]
    },
    {
     "name": "stderr",
     "output_type": "stream",
     "text": [
      "Some weights of the model checkpoint at bert-large-uncased were not used when initializing BertModel: ['cls.predictions.bias', 'cls.predictions.decoder.weight', 'cls.seq_relationship.weight', 'cls.predictions.transform.LayerNorm.weight', 'cls.predictions.transform.LayerNorm.bias', 'cls.predictions.transform.dense.weight', 'cls.seq_relationship.bias', 'cls.predictions.transform.dense.bias']\n",
      "- This IS expected if you are initializing BertModel from the checkpoint of a model trained on another task or with another architecture (e.g. initializing a BertForSequenceClassification model from a BertForPreTraining model).\n",
      "- This IS NOT expected if you are initializing BertModel from the checkpoint of a model that you expect to be exactly identical (initializing a BertForSequenceClassification model from a BertForSequenceClassification model).\n"
     ]
    },
    {
     "name": "stdout",
     "output_type": "stream",
     "text": [
      "0\n",
      "1\n",
      "2\n",
      "0\n",
      "1\n",
      "2\n",
      "User:  userInput_220\n",
      "3\n"
     ]
    },
    {
     "name": "stderr",
     "output_type": "stream",
     "text": [
      "Some weights of the model checkpoint at bert-large-uncased were not used when initializing BertModel: ['cls.predictions.bias', 'cls.predictions.decoder.weight', 'cls.seq_relationship.weight', 'cls.predictions.transform.LayerNorm.weight', 'cls.predictions.transform.LayerNorm.bias', 'cls.predictions.transform.dense.weight', 'cls.seq_relationship.bias', 'cls.predictions.transform.dense.bias']\n",
      "- This IS expected if you are initializing BertModel from the checkpoint of a model trained on another task or with another architecture (e.g. initializing a BertForSequenceClassification model from a BertForPreTraining model).\n",
      "- This IS NOT expected if you are initializing BertModel from the checkpoint of a model that you expect to be exactly identical (initializing a BertForSequenceClassification model from a BertForSequenceClassification model).\n"
     ]
    },
    {
     "name": "stdout",
     "output_type": "stream",
     "text": [
      "0\n",
      "1\n",
      "2\n",
      "0\n",
      "1\n",
      "2\n",
      "{'userInput_3': [[{'rouge-1': {'r': 0.532258064516129, 'p': 0.0707395498392283, 'f': 0.12488173870476504}, 'rouge-2': {'r': 0.3403141361256545, 'p': 0.040473225404732256, 'f': 0.07234279164497566}, 'rouge-l': {'r': 0.5241935483870968, 'p': 0.06966773847802786, 'f': 0.12298959111725317}}], [{'rouge-1': {'r': 0.416, 'p': 0.06220095693779904, 'f': 0.10822060127490338}, 'rouge-2': {'r': 0.23214285714285715, 'p': 0.024466750313676285, 'f': 0.04426787568692585}, 'rouge-l': {'r': 0.392, 'p': 0.05861244019138756, 'f': 0.10197710491694292}}], [{'rouge-1': {'r': 0.40609137055837563, 'p': 0.08781558726673985, 'f': 0.14440432920624868}, 'rouge-2': {'r': 0.18394648829431437, 'p': 0.035211267605633804, 'f': 0.05910800375109337}, 'rouge-l': {'r': 0.3756345177664975, 'p': 0.08122941822173436, 'f': 0.1335740042965014}}]], 'userInput_20': [[{'rouge-1': {'r': 0.5950155763239875, 'p': 0.22339181286549709, 'f': 0.3248299280037398}, 'rouge-2': {'r': 0.448692152917505, 'p': 0.14508783344176968, 'f': 0.2192723660220258}, 'rouge-l': {'r': 0.5700934579439252, 'p': 0.21403508771929824, 'f': 0.311224485826869}}], [{'rouge-1': {'r': 0.29931972789115646, 'p': 0.05372405372405373, 'f': 0.09109730590827264}, 'rouge-2': {'r': 0.07960199004975124, 'p': 0.012012012012012012, 'f': 0.020874100787400214}, 'rouge-l': {'r': 0.2925170068027211, 'p': 0.052503052503052504, 'f': 0.08902691253353145}}], [{'rouge-1': {'r': 0.4868913857677903, 'p': 0.136986301369863, 'f': 0.21381578604647739}, 'rouge-2': {'r': 0.2828282828282828, 'p': 0.0665083135391924, 'f': 0.1076923046095415}, 'rouge-l': {'r': 0.44569288389513106, 'p': 0.12539515279241306, 'f': 0.19572368078331948}}]], 'userInput_220': [[{'rouge-1': {'r': 0.39097744360902253, 'p': 0.07796101949025487, 'f': 0.1299999972277813}, 'rouge-2': {'r': 0.1326530612244898, 'p': 0.022549869904596703, 'f': 0.03854706942145888}, 'rouge-l': {'r': 0.3533834586466165, 'p': 0.0704647676161919, 'f': 0.1174999972277813}}], [{'rouge-1': {'r': 0.5871559633027523, 'p': 0.07720144752714113, 'f': 0.13646055231697893}, 'rouge-2': {'r': 0.4520547945205479, 'p': 0.046610169491525424, 'f': 0.08450704055885544}, 'rouge-l': {'r': 0.5688073394495413, 'p': 0.07478890229191798, 'f': 0.13219615999288511}}], [{'rouge-1': {'r': 0.6382978723404256, 'p': 0.07017543859649122, 'f': 0.12644889178737312}, 'rouge-2': {'r': 0.3835616438356164, 'p': 0.037333333333333336, 'f': 0.06804374078918816}, 'rouge-l': {'r': 0.6382978723404256, 'p': 0.07017543859649122, 'f': 0.12644889178737312}}]]}\n"
     ]
    }
   ],
   "source": [
    "score_final=summarizeIntentUser(intent,users)\n",
    "print(score_final)"
   ]
  },
  {
   "cell_type": "code",
   "execution_count": null,
   "metadata": {},
   "outputs": [],
   "source": []
  }
 ],
 "metadata": {
  "kernelspec": {
   "display_name": "682",
   "language": "python",
   "name": "682"
  },
  "language_info": {
   "codemirror_mode": {
    "name": "ipython",
    "version": 3
   },
   "file_extension": ".py",
   "mimetype": "text/x-python",
   "name": "python",
   "nbconvert_exporter": "python",
   "pygments_lexer": "ipython3",
   "version": "3.8.12"
  }
 },
 "nbformat": 4,
 "nbformat_minor": 4
}
