{
 "cells": [
  {
   "cell_type": "markdown",
   "metadata": {},
   "source": [
    "# Baseline Vanilla Bert Based Summarizer"
   ]
  },
  {
   "cell_type": "markdown",
   "metadata": {},
   "source": [
    "https://arxiv.org/abs/1906.04165\n",
    "https://pypi.org/project/bert-extractive-summarizer/"
   ]
  },
  {
   "cell_type": "code",
   "execution_count": 136,
   "metadata": {},
   "outputs": [],
   "source": [
    "from summarizer import Summarizer\n",
    "from rouge import Rouge\n",
    "import pandas as pd\n",
    "import glob"
   ]
  },
  {
   "cell_type": "markdown",
   "metadata": {},
   "source": [
    "**Functions**"
   ]
  },
  {
   "cell_type": "code",
   "execution_count": 120,
   "metadata": {},
   "outputs": [],
   "source": [
    "def createData(pathname):\n",
    "    all_files = glob.glob(pathname + \"/*.csv\")\n",
    "    #print('all_files',all_files)\n",
    "    raw_files=[]\n",
    "    for filepath in all_files:\n",
    "        #print(filepath)\n",
    "        raw_files.append(pd.read_csv(filepath))\n",
    "    return raw_files"
   ]
  },
  {
   "cell_type": "code",
   "execution_count": 121,
   "metadata": {},
   "outputs": [],
   "source": [
    "def createSummary(raw_files):\n",
    "    tst_summ_lst=[]\n",
    "    eval_summ_lst=[]\n",
    "    len_lst=[]\n",
    "    for raw_file in raw_files:\n",
    "        test_summary=\"\"\n",
    "        eval_summary=\"\"\n",
    "        test_summary=\"\".join(raw_file['sentence'])\n",
    "        raw_file_filtered= raw_file[raw_file['target']==1]\n",
    "        length=len(raw_file_filtered)\n",
    "        eval_summary=\"\".join(raw_file_filtered['sentence'])\n",
    "        len_lst.append(length)\n",
    "        tst_summ_lst.append(test_summary)\n",
    "        eval_summ_lst.append(eval_summary)\n",
    "    return tst_summ_lst,eval_summ_lst,len_lst"
   ]
  },
  {
   "cell_type": "code",
   "execution_count": 122,
   "metadata": {},
   "outputs": [],
   "source": [
    "def baselineSummarizer(file,len_lst):\n",
    "    model = Summarizer()\n",
    "    summary_lst=[]\n",
    "    k=0\n",
    "    for text in file:\n",
    "        print(len(summary_lst))\n",
    "        result = model(text,min_length=len_lst[k])\n",
    "        summary = ''.join(result)   \n",
    "        k+=1\n",
    "        summary_lst.append(summary)\n",
    "    return summary_lst"
   ]
  },
  {
   "cell_type": "code",
   "execution_count": 132,
   "metadata": {},
   "outputs": [],
   "source": [
    "def rougeEvaluation(model_output_lst, reference_lst):\n",
    "    scores={}\n",
    "    score_lst=[]\n",
    "    rouge = Rouge()\n",
    "    for i,x in enumerate(zip(model_output_lst,reference_lst)):\n",
    "        print(i)\n",
    "        model_output=model_output_lst[i]\n",
    "        reference=reference_lst[i]\n",
    "        scores=rouge.get_scores(model_output, reference)\n",
    "        score_lst.append(scores)\n",
    "    return score_lst\n",
    "    "
   ]
  },
  {
   "cell_type": "code",
   "execution_count": 124,
   "metadata": {},
   "outputs": [],
   "source": [
    "def findElbow(body):\n",
    "    model = Summarizer()\n",
    "    res = model.calculate_optimal_k(body, k_max=10)\n",
    "    print(res)"
   ]
  },
  {
   "cell_type": "markdown",
   "metadata": {},
   "source": [
    "**Create Data**"
   ]
  },
  {
   "cell_type": "code",
   "execution_count": 125,
   "metadata": {},
   "outputs": [
    {
     "name": "stdout",
     "output_type": "stream",
     "text": [
      "548\n"
     ]
    }
   ],
   "source": [
    "pathname='/Users/riyajoshi/PycharmProjects/Personalized-Document-Summarization/data/The_main_reasons_why_you_would_like_living_in_this_state/userInput_50/test'\n",
    "raw_files=createData(pathname)\n",
    "print(len(raw_files[0]))"
   ]
  },
  {
   "cell_type": "code",
   "execution_count": 126,
   "metadata": {},
   "outputs": [],
   "source": [
    "tst_summ_lst,eval_summ_lst,len_lst=createSummary(raw_files)"
   ]
  },
  {
   "cell_type": "code",
   "execution_count": 127,
   "metadata": {},
   "outputs": [
    {
     "name": "stdout",
     "output_type": "stream",
     "text": [
      "3\n",
      "3\n"
     ]
    }
   ],
   "source": [
    "print(len(tst_summ_lst))\n",
    "#print(tst_summ_lst)\n",
    "print(len(eval_summ_lst))"
   ]
  },
  {
   "cell_type": "code",
   "execution_count": null,
   "metadata": {},
   "outputs": [],
   "source": []
  },
  {
   "cell_type": "markdown",
   "metadata": {},
   "source": [
    "**Summary generation**"
   ]
  },
  {
   "cell_type": "code",
   "execution_count": 128,
   "metadata": {},
   "outputs": [
    {
     "name": "stderr",
     "output_type": "stream",
     "text": [
      "Some weights of the model checkpoint at bert-large-uncased were not used when initializing BertModel: ['cls.predictions.transform.dense.weight', 'cls.predictions.transform.dense.bias', 'cls.predictions.decoder.weight', 'cls.predictions.transform.LayerNorm.weight', 'cls.predictions.transform.LayerNorm.bias', 'cls.seq_relationship.bias', 'cls.predictions.bias', 'cls.seq_relationship.weight']\n",
      "- This IS expected if you are initializing BertModel from the checkpoint of a model trained on another task or with another architecture (e.g. initializing a BertForSequenceClassification model from a BertForPreTraining model).\n",
      "- This IS NOT expected if you are initializing BertModel from the checkpoint of a model that you expect to be exactly identical (initializing a BertForSequenceClassification model from a BertForSequenceClassification model).\n"
     ]
    },
    {
     "name": "stdout",
     "output_type": "stream",
     "text": [
      "0\n",
      "1\n",
      "2\n"
     ]
    }
   ],
   "source": [
    "summary_lst=baselineSummarizer(tst_summ_lst,len_lst)"
   ]
  },
  {
   "cell_type": "code",
   "execution_count": 129,
   "metadata": {},
   "outputs": [],
   "source": [
    "#print(summary_lst[0])"
   ]
  },
  {
   "cell_type": "code",
   "execution_count": 130,
   "metadata": {},
   "outputs": [],
   "source": [
    "#print(len(summary))\n",
    "#x = summary.split(\".\")\n",
    "#print(x)\n",
    "#print(len(x))"
   ]
  },
  {
   "cell_type": "markdown",
   "metadata": {},
   "source": [
    "**Evaluation using Rougue**"
   ]
  },
  {
   "cell_type": "code",
   "execution_count": 133,
   "metadata": {},
   "outputs": [
    {
     "name": "stdout",
     "output_type": "stream",
     "text": [
      "0\n",
      "1\n",
      "2\n",
      "[[{'rouge-1': {'r': 0.49206349206349204, 'p': 0.09309309309309309, 'f': 0.1565656538900368}, 'rouge-2': {'r': 0.3111888111888112, 'p': 0.04952698942682248, 'f': 0.08545367021861133}, 'rouge-l': {'r': 0.47619047619047616, 'p': 0.09009009009009009, 'f': 0.1515151488395317}}], [{'rouge-1': {'r': 0.5795454545454546, 'p': 0.11710677382319173, 'f': 0.19484240407995193}, 'rouge-2': {'r': 0.383399209486166, 'p': 0.06360655737704918, 'f': 0.10911135863892651}, 'rouge-l': {'r': 0.5568181818181818, 'p': 0.11251435132032148, 'f': 0.1872015253789013}}], [{'rouge-1': {'r': 0.4942528735632184, 'p': 0.1021377672209026, 'f': 0.16929133574407904}, 'rouge-2': {'r': 0.2965779467680608, 'p': 0.052845528455284556, 'f': 0.0897067254373222}, 'rouge-l': {'r': 0.47126436781609193, 'p': 0.09738717339667459, 'f': 0.16141731999604753}}]]\n"
     ]
    }
   ],
   "source": [
    "score_lst=[]\n",
    "score_lst=rougeEvaluation(summary_lst, eval_summ_lst)\n",
    "print(score_lst)"
   ]
  },
  {
   "cell_type": "code",
   "execution_count": null,
   "metadata": {},
   "outputs": [],
   "source": []
  }
 ],
 "metadata": {
  "kernelspec": {
   "display_name": "682",
   "language": "python",
   "name": "682"
  },
  "language_info": {
   "codemirror_mode": {
    "name": "ipython",
    "version": 3
   },
   "file_extension": ".py",
   "mimetype": "text/x-python",
   "name": "python",
   "nbconvert_exporter": "python",
   "pygments_lexer": "ipython3",
   "version": "3.8.12"
  }
 },
 "nbformat": 4,
 "nbformat_minor": 4
}
