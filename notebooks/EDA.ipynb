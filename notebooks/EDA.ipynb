{
 "cells": [
  {
   "cell_type": "markdown",
   "metadata": {},
   "source": [
    "# Exploratory Data Analysis "
   ]
  },
  {
   "cell_type": "markdown",
   "metadata": {},
   "source": [
    "### Choose Intent and related data for analysis"
   ]
  },
  {
   "cell_type": "code",
   "execution_count": 31,
   "metadata": {},
   "outputs": [],
   "source": [
    "import os \n",
    "import glob\n",
    "import pandas as pd"
   ]
  },
  {
   "cell_type": "code",
   "execution_count": 45,
   "metadata": {},
   "outputs": [],
   "source": [
    "def getTotalData(intent):\n",
    "    data=[]\n",
    "    dirs = os.listdir(name)\n",
    "    dirs=[file for file in dirs if file[:9]==\"userInput\"]\n",
    "    #print(my_list)\n",
    "    for dir_ in dirs:\n",
    "        pathname='/Users/riyajoshi/PycharmProjects/Personalized-Document-Summarization/data/'+intent+'/'\n",
    "        #print(dir_)\n",
    "        pathname+=dir_+\"/train_set.csv\"\n",
    "        file_data=pd.read_csv(pathname)\n",
    "        #print(type(file_data))\n",
    "        data.append(file_data)\n",
    "    data_df=pd.concat(data)\n",
    "        #print(pathname)\n",
    "    return data_df"
   ]
  },
  {
   "cell_type": "code",
   "execution_count": 157,
   "metadata": {},
   "outputs": [],
   "source": [
    "def getperUserImbalance(intent):\n",
    "    data=[]\n",
    "    lst=[]\n",
    "    df=pd.DataFrame()\n",
    "    ldict={}\n",
    "    dirs = os.listdir(name)\n",
    "    dirs=[file for file in dirs if file[:9]==\"userInput\"]\n",
    "    #print(my_list)\n",
    "    for dir_ in dirs:\n",
    "        pathname='/Users/riyajoshi/PycharmProjects/Personalized-Document-Summarization/data/'+intent+'/'\n",
    "        #print(dir_)\n",
    "        pathname+=dir_+\"/train_set.csv\"\n",
    "        file_data=pd.read_csv(pathname)\n",
    "        res=calClassImbalance(file_data)\n",
    "        #print(dir_)\n",
    "        #print(res)\n",
    "\n",
    "        #print(zipped)\n",
    "        ldict[dir_]=res\n",
    "    df=pd.DataFrame.from_dict(ldict)\n",
    "    df=df.T\n",
    "        #print(res)\n",
    "        #user=pd.DataFrame([dir_],columns=[\"User\"])\n",
    "        #imbalance=pd.DataFrame(dict(res),columns=[\"imbalance\"])\n",
    "        #print(imbalance)\n",
    "        #df_=pd.concat([user, imbalance], axis=1)\n",
    "        #df=df.append(df_)\n",
    "    #print(lst)\n",
    "    #df=pd.DataFrame(lst)\n",
    "        #print(pathname)\n",
    "    return df\n"
   ]
  },
  {
   "cell_type": "code",
   "execution_count": 158,
   "metadata": {},
   "outputs": [],
   "source": [
    "def calClassImbalance(df):\n",
    "    total_rows=len(df)\n",
    "    no_1=df[df['target']==1]['sentence'].count()*100/total_rows \n",
    "    no_0=df[df['target']==0]['sentence'].count()*100/total_rows\n",
    "    result={\"1s\":no_1,\"0s\":no_0}\n",
    "    #res_df=pd.DataFrame([no_1,no_0],columns=['1s', '0s'])\n",
    "    return result\n",
    "    "
   ]
  },
  {
   "cell_type": "code",
   "execution_count": 163,
   "metadata": {},
   "outputs": [
    {
     "name": "stdout",
     "output_type": "stream",
     "text": [
      "Intent :  The_main_reasons_why_you_would_like_living_in_this_state\n",
      "Total Class imbalance in whole dataset\n",
      "59441\n",
      "{'1s': 2.483134536767551, '0s': 97.51686546323245}\n",
      "Total Class imbalance per user\n",
      "                     1s         0s\n",
      "userInput_264  4.735516  95.264484\n",
      "userInput_53   3.868386  96.131614\n",
      "userInput_147  3.753819  96.246181\n",
      "userInput_249  3.739679  96.260321\n",
      "userInput_50   3.677582  96.322418\n",
      "userInput_250  3.676471  96.323529\n",
      "userInput_51   3.305377  96.694623\n",
      "userInput_63   3.144064  96.855936\n",
      "userInput_152  3.094463  96.905537\n",
      "userInput_247  2.870159  97.129841\n",
      "userInput_64   2.719767  97.280233\n",
      "userInput_267  2.642114  97.357886\n",
      "userInput_150  2.622632  97.377368\n",
      "userInput_246  2.203614  97.796386\n",
      "userInput_248  2.120793  97.879207\n",
      "userInput_265  1.957041  98.042959\n",
      "userInput_61   1.952462  98.047538\n",
      "userInput_148  1.863980  98.136020\n",
      "userInput_149  1.830127  98.169873\n",
      "userInput_266  1.796989  98.203011\n",
      "userInput_52   1.651287  98.348713\n",
      "userInput_263  1.547303  98.452697\n",
      "userInput_49   1.493811  98.506189\n",
      "userInput_251  1.465798  98.534202\n",
      "userInput_268  1.420217  98.579783\n",
      "userInput_62   1.366743  98.633257\n",
      "userInput_151  1.200961  98.799039\n"
     ]
    }
   ],
   "source": [
    "intent=\"The_main_reasons_why_you_would_like_living_in_this_state\"\n",
    "print(\"Intent : \",intent)\n",
    "data=getData(intent)\n",
    "result=calClassImbalance(data)\n",
    "print(\"Total Class imbalance in whole dataset\")\n",
    "print(len(data))\n",
    "print(result)\n",
    "print(\"Total Class imbalance per user\")\n",
    "df=getperUserImbalance(intent)\n",
    "df=df.sort_values([\"1s\"],ascending=False)\n",
    "print(df)"
   ]
  },
  {
   "cell_type": "code",
   "execution_count": 5,
   "metadata": {},
   "outputs": [
    {
     "name": "stdout",
     "output_type": "stream",
     "text": [
      "<generator object <genexpr> at 0x7f9239c40580>\n"
     ]
    }
   ],
   "source": [
    "import os\n",
    "name='/Users/riyajoshi/PycharmProjects/Personalized-Document-Summarization/data/The_main_reasons_why_you_would_like_living_in_this_state/'\n",
    "print(t for t in os.listdir(\".\") if os.path.isdir(name))"
   ]
  },
  {
   "cell_type": "code",
   "execution_count": 16,
   "metadata": {},
   "outputs": [
    {
     "name": "stdout",
     "output_type": "stream",
     "text": [
      "28\n"
     ]
    }
   ],
   "source": [
    "import os \n",
    "my_list = os.listdir(name)\n",
    "print(len(my_list))"
   ]
  },
  {
   "cell_type": "code",
   "execution_count": null,
   "metadata": {},
   "outputs": [],
   "source": []
  }
 ],
 "metadata": {
  "kernelspec": {
   "display_name": "682",
   "language": "python",
   "name": "682"
  },
  "language_info": {
   "codemirror_mode": {
    "name": "ipython",
    "version": 3
   },
   "file_extension": ".py",
   "mimetype": "text/x-python",
   "name": "python",
   "nbconvert_exporter": "python",
   "pygments_lexer": "ipython3",
   "version": "3.8.12"
  }
 },
 "nbformat": 4,
 "nbformat_minor": 4
}
