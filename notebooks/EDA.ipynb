{
 "cells": [
  {
   "cell_type": "markdown",
   "metadata": {},
   "source": [
    "# Exploratory Data Analysis "
   ]
  },
  {
   "cell_type": "markdown",
   "metadata": {},
   "source": [
    "### Choose Intent and related data for analysis"
   ]
  },
  {
   "cell_type": "code",
   "execution_count": 142,
   "metadata": {},
   "outputs": [],
   "source": [
    "import os \n",
    "import glob\n",
    "import pandas as pd"
   ]
  },
  {
   "cell_type": "code",
   "execution_count": 150,
   "metadata": {},
   "outputs": [],
   "source": [
    "intent='What_are_some_of_the_most_interesting_things_about_this_state'\n",
    "name='/Users/riyajoshi/PycharmProjects/Personalized-Document-Summarization/data/'+intent"
   ]
  },
  {
   "cell_type": "code",
   "execution_count": 151,
   "metadata": {},
   "outputs": [],
   "source": [
    "def getTotalData(intent):\n",
    "    data=[]\n",
    "    #dirs = os.listdir(name)\n",
    "    #dirs=[file for file in dirs if file[:9]==\"userInput\"]\n",
    "    #print(my_list)\n",
    "    users=['userInput_54','userInput_154','userInput_254']\n",
    "    for user in users:\n",
    "        pathname='/Users/riyajoshi/PycharmProjects/Personalized-Document-Summarization/data/'+intent+'/'\n",
    "        #print(dir_)\n",
    "        pathname+=user+\"/train_set.csv\"\n",
    "        #print(\"pt\",pathname)\n",
    "        file_data=pd.read_csv(pathname)\n",
    "        #print(file_data)\n",
    "        res=calClassImbalance(file_data)\n",
    "        print(\"Train rows for user \",user, len(file_data))\n",
    "        print(\"Train imbalance for user \",user, res)\n",
    "        #print(pathname)\n"
   ]
  },
  {
   "cell_type": "code",
   "execution_count": 152,
   "metadata": {},
   "outputs": [],
   "source": [
    "def getTotalData_test(intent):\n",
    "    data=[]\n",
    "    dirs = os.listdir(name)\n",
    "    dirs=[file for file in dirs if file[:9]==\"userInput\"]\n",
    "    #print(my_list)\n",
    "    for dir_ in dirs:\n",
    "        pathname='/Users/riyajoshi/PycharmProjects/Personalized-Document-Summarization/data/'+intent+'/'\n",
    "        #print(dir_)\n",
    "        pathname+=dir_+\"/test.csv\"\n",
    "        glob.glob(pathname + \"/*.csv\")\n",
    "        file_data=pd.read_csv(pathname)\n",
    "        #print(type(file_data))\n",
    "        data.append(file_data)\n",
    "    data_df=pd.concat(data)\n",
    "        #print(pathname)\n",
    "    return data_df"
   ]
  },
  {
   "cell_type": "code",
   "execution_count": 153,
   "metadata": {},
   "outputs": [],
   "source": [
    "def getperUserImbalance(intent):\n",
    "    data=[]\n",
    "    lst=[]\n",
    "    df=pd.DataFrame()\n",
    "    ldict={}\n",
    "    dirs = os.listdir(name)\n",
    "    dirs=[file for file in dirs if file[:9]==\"userInput\"]\n",
    "    #print(my_list)\n",
    "    for dir_ in dirs:\n",
    "        pathname='/Users/riyajoshi/PycharmProjects/Personalized-Document-Summarization/data/'+intent+'/'\n",
    "        #print(dir_)\n",
    "        pathname+=dir_+\"/train_set.csv\"\n",
    "        file_data=pd.read_csv(pathname)\n",
    "        res=calClassImbalance(file_data)\n",
    "        #print(dir_)\n",
    "        #print(res)\n",
    "\n",
    "        #print(zipped)\n",
    "        ldict[dir_]=res\n",
    "    df=pd.DataFrame.from_dict(ldict)\n",
    "    df=df.T\n",
    "        #print(res)\n",
    "        #user=pd.DataFrame([dir_],columns=[\"User\"])\n",
    "        #imbalance=pd.DataFrame(dict(res),columns=[\"imbalance\"])\n",
    "        #print(imbalance)\n",
    "        #df_=pd.concat([user, imbalance], axis=1)\n",
    "        #df=df.append(df_)\n",
    "    #print(lst)\n",
    "    #df=pd.DataFrame(lst)\n",
    "        #print(pathname)\n",
    "    return df\n"
   ]
  },
  {
   "cell_type": "code",
   "execution_count": 154,
   "metadata": {},
   "outputs": [],
   "source": [
    "# validation intent and user pair\n",
    "#intent=\"The_main_reasons_why_you_would_like_living_in_this_state\"\n",
    "#user= \"['userInput_49','userInput_150','userInput_268']\"\n",
    "#intent=\"'What_about_this_states_arts_and_culture_attracts_you_the_most'\"\n",
    "#users =['userInput_43','userInput_146','userInput_262']\n",
    "#intent=Which_places_seem_interesting_to_you_for_visiting_in_this_state\n",
    "#users=['userInput_3','userInput_20','userInput_220']\n",
    "#intent=What_are_some_of_the_most_interesting_things_about_this_state\n",
    "#users=['userInput_54','userInput_154','userInput_254']\n",
    "def getperUserImbalance_test(intent):\n",
    "    users=['userInput_54','userInput_154','userInput_254']\n",
    "    data=[]\n",
    "    lst=[]\n",
    "    df=pd.DataFrame()\n",
    "    ldict={}\n",
    "    #dirs = os.listdir(name)\n",
    "    #dirs=[file for file in dirs if file[:9]==\"userInput\"]\n",
    "    #print(my_list)\n",
    "    for user in users:\n",
    "        pathname='/Users/riyajoshi/PycharmProjects/Personalized-Document-Summarization/data/'+intent+'/'+user+'/test'\n",
    "        #print(dir_)\n",
    "        #pathname+=user+'/test'\n",
    "        #print('pn',pathname)\n",
    "        all_files = glob.glob(pathname+'/*.csv')\n",
    "        #print(\"test files\",all_files)\n",
    "        raw_files=[]\n",
    "        for filepath in all_files:\n",
    "            raw_files.append(pd.read_csv(filepath))\n",
    "            file_data=pd.read_csv(filepath)\n",
    "            res=calClassImbalance(file_data)\n",
    "        print(\"Test 1 total rows for user \",user, len(file_data))\n",
    "        print(\"Test 1 timbalance for user \",user, res)\n",
    "\n",
    "\n"
   ]
  },
  {
   "cell_type": "code",
   "execution_count": 155,
   "metadata": {},
   "outputs": [],
   "source": [
    "def calClassImbalance(df):\n",
    "    total_rows=len(df)\n",
    "    no_1=df[df['target']==1]['sentence'].count()*100/total_rows \n",
    "    no_0=df[df['target']==0]['sentence'].count()*100/total_rows\n",
    "    result={\"1s\":no_1,\"0s\":no_0}\n",
    "    #res_df=pd.DataFrame([no_1,no_0],columns=['1s', '0s'])\n",
    "    return result\n",
    "    "
   ]
  },
  {
   "cell_type": "code",
   "execution_count": 156,
   "metadata": {},
   "outputs": [
    {
     "name": "stdout",
     "output_type": "stream",
     "text": [
      "Intent :  What_are_some_of_the_most_interesting_things_about_this_state\n",
      "Train rows for user  userInput_54 2239\n",
      "Train imbalance for user  userInput_54 {'1s': 2.1438142027690934, '0s': 97.8561857972309}\n",
      "Train rows for user  userInput_154 2245\n",
      "Train imbalance for user  userInput_154 {'1s': 3.0734966592427617, '0s': 96.92650334075724}\n",
      "Train rows for user  userInput_254 2131\n",
      "Train imbalance for user  userInput_254 {'1s': 4.317221961520413, '0s': 95.68277803847958}\n",
      "Test 1 total rows for user  userInput_54 509\n",
      "Test 1 timbalance for user  userInput_54 {'1s': 2.5540275049115913, '0s': 97.44597249508841}\n",
      "Test 1 total rows for user  userInput_154 444\n",
      "Test 1 timbalance for user  userInput_154 {'1s': 2.9279279279279278, '0s': 97.07207207207207}\n",
      "Test 1 total rows for user  userInput_254 414\n",
      "Test 1 timbalance for user  userInput_254 {'1s': 2.898550724637681, '0s': 97.10144927536231}\n"
     ]
    }
   ],
   "source": [
    "print(\"Intent : \",intent)\n",
    "getTotalData(intent)\n",
    "calClassImbalance(data)\n",
    "getperUserImbalance_test(intent)"
   ]
  },
  {
   "cell_type": "raw",
   "metadata": {},
   "source": [
    "Intent :  The_main_reasons_why_you_would_like_living_in_this_state\n",
    "Train rows for user  userInput_49 2343\n",
    "Train imbalance for user  userInput_49 {'1s': 1.4938113529662826, '0s': 98.50618864703372}\n",
    "Train rows for user  userInput_150 2059\n",
    "Train imbalance for user  userInput_150 {'1s': 2.6226323457989316, '0s': 97.37736765420107}\n",
    "Train rows for user  userInput_268 2394\n",
    "Train imbalance for user  userInput_268 {'1s': 1.4202172096908938, '0s': 98.57978279030911}\n",
    "Test 1 total rows for user  userInput_49 499\n",
    "Test 1 timbalance for user  userInput_49 {'1s': 0.8016032064128257, '0s': 99.19839679358718}\n",
    "Test 1 total rows for user  userInput_150 477\n",
    "Test 1 timbalance for user  userInput_150 {'1s': 2.5157232704402515, '0s': 97.48427672955975}\n",
    "Test 1 total rows for user  userInput_268 496\n",
    "Test 1 timbalance for user  userInput_268 {'1s': 1.2096774193548387, '0s': 98.79032258064517}\n",
    "\n",
    "Intent :  What_about_this_states_arts_and_culture_attracts_you_the_most\n",
    "Train rows for user  userInput_43 2291\n",
    "Train imbalance for user  userInput_43 {'1s': 1.7896115233522478, '0s': 98.21038847664775}\n",
    "Train rows for user  userInput_146 2456\n",
    "Train imbalance for user  userInput_146 {'1s': 2.320846905537459, '0s': 97.67915309446254}\n",
    "Train rows for user  userInput_262 2498\n",
    "Train imbalance for user  userInput_262 {'1s': 2.522017614091273, '0s': 97.47798238590873}\n",
    "Test 1 total rows for user  userInput_43 499\n",
    "Test 1 timbalance for user  userInput_43 {'1s': 1.402805611222445, '0s': 98.59719438877755}\n",
    "Test 1 total rows for user  userInput_146 456\n",
    "Test 1 timbalance for user  userInput_146 {'1s': 3.0701754385964914, '0s': 96.9298245614035}\n",
    "Test 1 total rows for user  userInput_262 505\n",
    "Test 1 timbalance for user  userInput_262 {'1s': 3.9603960396039604, '0s': 96.03960396039604}\n",
    "\n",
    "Intent :  Which_places_seem_interesting_to_you_for_visiting_in_this_state\n",
    "Train rows for user  userInput_3 2191\n",
    "Train imbalance for user  userInput_3 {'1s': 2.145139205842081, '0s': 97.85486079415791}\n",
    "Train rows for user  userInput_20 2498\n",
    "Train imbalance for user  userInput_20 {'1s': 2.401921537229784, '0s': 97.59807846277022}\n",
    "Train rows for user  userInput_220 2456\n",
    "Train imbalance for user  userInput_220 {'1s': 2.035830618892508, '0s': 97.9641693811075}\n",
    "Test 1 total rows for user  userInput_3 499\n",
    "Test 1 timbalance for user  userInput_3 {'1s': 2.2044088176352705, '0s': 97.79559118236473}\n",
    "Test 1 total rows for user  userInput_20 505\n",
    "Test 1 timbalance for user  userInput_20 {'1s': 2.5742574257425743, '0s': 97.42574257425743}\n",
    "Test 1 total rows for user  userInput_220 456\n",
    "Test 1 timbalance for user  userInput_220 {'1s': 1.7543859649122806, '0s': 98.24561403508773}"
   ]
  },
  {
   "cell_type": "code",
   "execution_count": 163,
   "metadata": {},
   "outputs": [
    {
     "name": "stdout",
     "output_type": "stream",
     "text": [
      "Intent :  The_main_reasons_why_you_would_like_living_in_this_state\n",
      "Total Class imbalance in whole dataset\n",
      "59441\n",
      "{'1s': 2.483134536767551, '0s': 97.51686546323245}\n",
      "Total Class imbalance per user\n",
      "                     1s         0s\n",
      "userInput_264  4.735516  95.264484\n",
      "userInput_53   3.868386  96.131614\n",
      "userInput_147  3.753819  96.246181\n",
      "userInput_249  3.739679  96.260321\n",
      "userInput_50   3.677582  96.322418\n",
      "userInput_250  3.676471  96.323529\n",
      "userInput_51   3.305377  96.694623\n",
      "userInput_63   3.144064  96.855936\n",
      "userInput_152  3.094463  96.905537\n",
      "userInput_247  2.870159  97.129841\n",
      "userInput_64   2.719767  97.280233\n",
      "userInput_267  2.642114  97.357886\n",
      "userInput_150  2.622632  97.377368\n",
      "userInput_246  2.203614  97.796386\n",
      "userInput_248  2.120793  97.879207\n",
      "userInput_265  1.957041  98.042959\n",
      "userInput_61   1.952462  98.047538\n",
      "userInput_148  1.863980  98.136020\n",
      "userInput_149  1.830127  98.169873\n",
      "userInput_266  1.796989  98.203011\n",
      "userInput_52   1.651287  98.348713\n",
      "userInput_263  1.547303  98.452697\n",
      "userInput_49   1.493811  98.506189\n",
      "userInput_251  1.465798  98.534202\n",
      "userInput_268  1.420217  98.579783\n",
      "userInput_62   1.366743  98.633257\n",
      "userInput_151  1.200961  98.799039\n"
     ]
    }
   ],
   "source": [
    "intent=\"The_main_reasons_why_you_would_like_living_in_this_state\"\n",
    "print(\"Intent : \",intent)\n",
    "data=getData(intent)\n",
    "result=calClassImbalance(data)\n",
    "print(\"Total Class imbalance in whole dataset\")\n",
    "print(len(data))\n",
    "print(result)\n",
    "print(\"Total Class imbalance per user\")\n",
    "df=getperUserImbalance(intent)\n",
    "df=df.sort_values([\"1s\"],ascending=False)\n",
    "print(df)\n",
    "\n"
   ]
  },
  {
   "cell_type": "code",
   "execution_count": 5,
   "metadata": {},
   "outputs": [
    {
     "name": "stdout",
     "output_type": "stream",
     "text": [
      "<generator object <genexpr> at 0x7f9239c40580>\n"
     ]
    }
   ],
   "source": [
    "import os\n",
    "name='/Users/riyajoshi/PycharmProjects/Personalized-Document-Summarization/data/The_main_reasons_why_you_would_like_living_in_this_state/'\n",
    "print(t for t in os.listdir(\".\") if os.path.isdir(name))"
   ]
  },
  {
   "cell_type": "code",
   "execution_count": 16,
   "metadata": {},
   "outputs": [
    {
     "name": "stdout",
     "output_type": "stream",
     "text": [
      "28\n"
     ]
    }
   ],
   "source": [
    "import os \n",
    "my_list = os.listdir(name)\n",
    "print(len(my_list))"
   ]
  },
  {
   "cell_type": "code",
   "execution_count": null,
   "metadata": {},
   "outputs": [],
   "source": []
  }
 ],
 "metadata": {
  "kernelspec": {
   "display_name": "682",
   "language": "python",
   "name": "682"
  },
  "language_info": {
   "codemirror_mode": {
    "name": "ipython",
    "version": 3
   },
   "file_extension": ".py",
   "mimetype": "text/x-python",
   "name": "python",
   "nbconvert_exporter": "python",
   "pygments_lexer": "ipython3",
   "version": "3.8.12"
  }
 },
 "nbformat": 4,
 "nbformat_minor": 4
}
