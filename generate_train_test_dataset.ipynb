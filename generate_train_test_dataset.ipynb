{
 "cells": [
  {
   "cell_type": "code",
   "execution_count": 3,
   "metadata": {},
   "outputs": [],
   "source": [
    "import json\n",
    "import nltk\n",
    "from nltk import tokenize\n",
    "import pandas as pd"
   ]
  },
  {
   "cell_type": "code",
   "execution_count": 4,
   "metadata": {},
   "outputs": [],
   "source": [
    "def build_train_dataset(input_data):\n",
    "    df_final=pd.DataFrame()\n",
    "    for i in range(5):\n",
    "        state = input_data['summaries'][i]['state_name']\n",
    "        txt_file = open('Dataset/StateDocuments/' + state + '.txt',\"r\")\n",
    "        wiki_para = txt_file.read()\n",
    "        sentences = tokenize.sent_tokenize(wiki_para)\n",
    "        summary = input_data['summaries'][i]['sentences']\n",
    "        dic = {}\n",
    "        dic['sentence'] = []\n",
    "        dic['target'] = []\n",
    "        for sent in sentences:\n",
    "            dic['sentence'].append(sent)\n",
    "            if sent in summary:\n",
    "                dic['target'].append(1)\n",
    "            else:\n",
    "                dic['target'].append(0)\n",
    "        temp_df = pd.DataFrame(dic)\n",
    "        df_final = df_final.append(temp_df, ignore_index=True)\n",
    "    return df_final"
   ]
  },
  {
   "cell_type": "code",
   "execution_count": 11,
   "metadata": {},
   "outputs": [],
   "source": [
    "def build_test_dataset(input_data):\n",
    "    df_final=pd.DataFrame()\n",
    "    for i in range(5,8):\n",
    "        state = input_data['summaries'][i]['state_name']\n",
    "        txt_file = open('Dataset/StateDocuments/' + state + '.txt',\"r\")\n",
    "        wiki_para = txt_file.read()\n",
    "        sentences = tokenize.sent_tokenize(wiki_para)\n",
    "        summary = input_data['summaries'][i]['sentences']\n",
    "        dic = {}\n",
    "        dic['sentence'] = []\n",
    "        dic['target'] = []\n",
    "        for sent in sentences:\n",
    "            dic['sentence'].append(sent)\n",
    "            if sent in summary:\n",
    "                dic['target'].append(1)\n",
    "            else:\n",
    "                dic['target'].append(0)\n",
    "        temp_df = pd.DataFrame(dic)\n",
    "        temp_df.to_csv('test_set_'+state+'.csv',index=False)\n",
    "    return df_final"
   ]
  },
  {
   "cell_type": "code",
   "execution_count": 6,
   "metadata": {},
   "outputs": [],
   "source": [
    "f = open(\"Dataset/userInput_0.txt\")"
   ]
  },
  {
   "cell_type": "code",
   "execution_count": 7,
   "metadata": {},
   "outputs": [],
   "source": [
    "data = json.load(f)"
   ]
  },
  {
   "cell_type": "code",
   "execution_count": 9,
   "metadata": {
    "scrolled": false
   },
   "outputs": [],
   "source": [
    "df_train = build_train_dataset(data)"
   ]
  },
  {
   "cell_type": "code",
   "execution_count": 12,
   "metadata": {},
   "outputs": [
    {
     "data": {
      "text/html": [
       "<div>\n",
       "<style scoped>\n",
       "    .dataframe tbody tr th:only-of-type {\n",
       "        vertical-align: middle;\n",
       "    }\n",
       "\n",
       "    .dataframe tbody tr th {\n",
       "        vertical-align: top;\n",
       "    }\n",
       "\n",
       "    .dataframe thead th {\n",
       "        text-align: right;\n",
       "    }\n",
       "</style>\n",
       "<table border=\"1\" class=\"dataframe\">\n",
       "  <thead>\n",
       "    <tr style=\"text-align: right;\">\n",
       "      <th></th>\n",
       "    </tr>\n",
       "  </thead>\n",
       "  <tbody>\n",
       "  </tbody>\n",
       "</table>\n",
       "</div>"
      ],
      "text/plain": [
       "Empty DataFrame\n",
       "Columns: []\n",
       "Index: []"
      ]
     },
     "execution_count": 12,
     "metadata": {},
     "output_type": "execute_result"
    }
   ],
   "source": [
    "build_test_dataset(data)"
   ]
  },
  {
   "cell_type": "code",
   "execution_count": 20,
   "metadata": {},
   "outputs": [],
   "source": [
    "df_train.to_csv('train_set.csv',index=False)"
   ]
  },
  {
   "cell_type": "code",
   "execution_count": 8,
   "metadata": {},
   "outputs": [
    {
     "data": {
      "text/html": [
       "<div>\n",
       "<style scoped>\n",
       "    .dataframe tbody tr th:only-of-type {\n",
       "        vertical-align: middle;\n",
       "    }\n",
       "\n",
       "    .dataframe tbody tr th {\n",
       "        vertical-align: top;\n",
       "    }\n",
       "\n",
       "    .dataframe thead th {\n",
       "        text-align: right;\n",
       "    }\n",
       "</style>\n",
       "<table border=\"1\" class=\"dataframe\">\n",
       "  <thead>\n",
       "    <tr style=\"text-align: right;\">\n",
       "      <th></th>\n",
       "      <th>sentence</th>\n",
       "      <th>target</th>\n",
       "    </tr>\n",
       "  </thead>\n",
       "  <tbody>\n",
       "    <tr>\n",
       "      <th>0</th>\n",
       "      <td>New York is a state in the northeastern United...</td>\n",
       "      <td>0</td>\n",
       "    </tr>\n",
       "    <tr>\n",
       "      <th>1</th>\n",
       "      <td>It was one of the original thirteen colonies, ...</td>\n",
       "      <td>0</td>\n",
       "    </tr>\n",
       "    <tr>\n",
       "      <th>2</th>\n",
       "      <td>With a total area of 54,555 square miles (141,...</td>\n",
       "      <td>0</td>\n",
       "    </tr>\n",
       "    <tr>\n",
       "      <th>3</th>\n",
       "      <td>Its population of more than 19 million as of 2...</td>\n",
       "      <td>0</td>\n",
       "    </tr>\n",
       "    <tr>\n",
       "      <th>4</th>\n",
       "      <td>Sometimes referred to as New York State, it is...</td>\n",
       "      <td>0</td>\n",
       "    </tr>\n",
       "    <tr>\n",
       "      <th>...</th>\n",
       "      <td>...</td>\n",
       "      <td>...</td>\n",
       "    </tr>\n",
       "    <tr>\n",
       "      <th>2783</th>\n",
       "      <td>It begins with trail rides from several points...</td>\n",
       "      <td>0</td>\n",
       "    </tr>\n",
       "    <tr>\n",
       "      <th>2784</th>\n",
       "      <td>The Southwestern Exposition and Livestock Show...</td>\n",
       "      <td>0</td>\n",
       "    </tr>\n",
       "    <tr>\n",
       "      <th>2785</th>\n",
       "      <td>Dallas hosts the State Fair of Texas each year...</td>\n",
       "      <td>0</td>\n",
       "    </tr>\n",
       "    <tr>\n",
       "      <th>2786</th>\n",
       "      <td>Texas Motor Speedway hosts annual NASCAR Cup S...</td>\n",
       "      <td>0</td>\n",
       "    </tr>\n",
       "    <tr>\n",
       "      <th>2787</th>\n",
       "      <td>Since 2012, Austin's Circuit of the Americas p...</td>\n",
       "      <td>0</td>\n",
       "    </tr>\n",
       "  </tbody>\n",
       "</table>\n",
       "<p>2788 rows × 2 columns</p>\n",
       "</div>"
      ],
      "text/plain": [
       "                                               sentence  target\n",
       "0     New York is a state in the northeastern United...       0\n",
       "1     It was one of the original thirteen colonies, ...       0\n",
       "2     With a total area of 54,555 square miles (141,...       0\n",
       "3     Its population of more than 19 million as of 2...       0\n",
       "4     Sometimes referred to as New York State, it is...       0\n",
       "...                                                 ...     ...\n",
       "2783  It begins with trail rides from several points...       0\n",
       "2784  The Southwestern Exposition and Livestock Show...       0\n",
       "2785  Dallas hosts the State Fair of Texas each year...       0\n",
       "2786  Texas Motor Speedway hosts annual NASCAR Cup S...       0\n",
       "2787  Since 2012, Austin's Circuit of the Americas p...       0\n",
       "\n",
       "[2788 rows x 2 columns]"
      ]
     },
     "execution_count": 8,
     "metadata": {},
     "output_type": "execute_result"
    }
   ],
   "source": [
    "df_train"
   ]
  }
 ],
 "metadata": {
  "kernelspec": {
   "display_name": "Python 3",
   "language": "python",
   "name": "python3"
  },
  "language_info": {
   "codemirror_mode": {
    "name": "ipython",
    "version": 3
   },
   "file_extension": ".py",
   "mimetype": "text/x-python",
   "name": "python",
   "nbconvert_exporter": "python",
   "pygments_lexer": "ipython3",
   "version": "3.8.5"
  }
 },
 "nbformat": 4,
 "nbformat_minor": 4
}
